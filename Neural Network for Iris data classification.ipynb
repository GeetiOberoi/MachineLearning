{
 "cells": [
  {
   "cell_type": "code",
   "execution_count": 246,
   "metadata": {},
   "outputs": [],
   "source": [
    "import pandas as pd\n",
    "import numpy as np\n",
    "import matplotlib.pyplot as plt\n",
    "\n"
   ]
  },
  {
   "cell_type": "code",
   "execution_count": 247,
   "metadata": {},
   "outputs": [
    {
     "data": {
      "text/html": [
       "<div>\n",
       "<style scoped>\n",
       "    .dataframe tbody tr th:only-of-type {\n",
       "        vertical-align: middle;\n",
       "    }\n",
       "\n",
       "    .dataframe tbody tr th {\n",
       "        vertical-align: top;\n",
       "    }\n",
       "\n",
       "    .dataframe thead th {\n",
       "        text-align: right;\n",
       "    }\n",
       "</style>\n",
       "<table border=\"1\" class=\"dataframe\">\n",
       "  <thead>\n",
       "    <tr style=\"text-align: right;\">\n",
       "      <th></th>\n",
       "      <th>Id</th>\n",
       "      <th>SepalLengthCm</th>\n",
       "      <th>SepalWidthCm</th>\n",
       "      <th>PetalLengthCm</th>\n",
       "      <th>PetalWidthCm</th>\n",
       "      <th>Species</th>\n",
       "    </tr>\n",
       "  </thead>\n",
       "  <tbody>\n",
       "    <tr>\n",
       "      <th>0</th>\n",
       "      <td>1</td>\n",
       "      <td>5.1</td>\n",
       "      <td>3.5</td>\n",
       "      <td>1.4</td>\n",
       "      <td>0.2</td>\n",
       "      <td>Iris-setosa</td>\n",
       "    </tr>\n",
       "    <tr>\n",
       "      <th>1</th>\n",
       "      <td>2</td>\n",
       "      <td>4.9</td>\n",
       "      <td>3.0</td>\n",
       "      <td>1.4</td>\n",
       "      <td>0.2</td>\n",
       "      <td>Iris-setosa</td>\n",
       "    </tr>\n",
       "    <tr>\n",
       "      <th>2</th>\n",
       "      <td>3</td>\n",
       "      <td>4.7</td>\n",
       "      <td>3.2</td>\n",
       "      <td>1.3</td>\n",
       "      <td>0.2</td>\n",
       "      <td>Iris-setosa</td>\n",
       "    </tr>\n",
       "    <tr>\n",
       "      <th>3</th>\n",
       "      <td>4</td>\n",
       "      <td>4.6</td>\n",
       "      <td>3.1</td>\n",
       "      <td>1.5</td>\n",
       "      <td>0.2</td>\n",
       "      <td>Iris-setosa</td>\n",
       "    </tr>\n",
       "    <tr>\n",
       "      <th>4</th>\n",
       "      <td>5</td>\n",
       "      <td>5.0</td>\n",
       "      <td>3.6</td>\n",
       "      <td>1.4</td>\n",
       "      <td>0.2</td>\n",
       "      <td>Iris-setosa</td>\n",
       "    </tr>\n",
       "  </tbody>\n",
       "</table>\n",
       "</div>"
      ],
      "text/plain": [
       "   Id  SepalLengthCm  SepalWidthCm  PetalLengthCm  PetalWidthCm      Species\n",
       "0   1            5.1           3.5            1.4           0.2  Iris-setosa\n",
       "1   2            4.9           3.0            1.4           0.2  Iris-setosa\n",
       "2   3            4.7           3.2            1.3           0.2  Iris-setosa\n",
       "3   4            4.6           3.1            1.5           0.2  Iris-setosa\n",
       "4   5            5.0           3.6            1.4           0.2  Iris-setosa"
      ]
     },
     "execution_count": 247,
     "metadata": {},
     "output_type": "execute_result"
    }
   ],
   "source": [
    "df = pd.read_csv(r'C:\\Users\\Iris.csv')\n",
    "df.head()"
   ]
  },
  {
   "cell_type": "code",
   "execution_count": 248,
   "metadata": {},
   "outputs": [
    {
     "data": {
      "text/plain": [
       "SepalLengthCm    0\n",
       "SepalWidthCm     0\n",
       "PetalLengthCm    0\n",
       "PetalWidthCm     0\n",
       "Species          0\n",
       "dtype: int64"
      ]
     },
     "execution_count": 248,
     "metadata": {},
     "output_type": "execute_result"
    }
   ],
   "source": [
    "df = df.drop(['Id'],axis=1)\n",
    "df.isnull().sum()"
   ]
  },
  {
   "cell_type": "code",
   "execution_count": 249,
   "metadata": {},
   "outputs": [],
   "source": [
    "df[\"Species\"] = df[\"Species\"].map({\"Iris-versicolor\": 0, \"Iris-virginica\": 1, \"Iris-setosa\": 2}).astype(int)"
   ]
  },
  {
   "cell_type": "code",
   "execution_count": 250,
   "metadata": {},
   "outputs": [],
   "source": [
    "x_train = df[['PetalLengthCm', 'PetalWidthCm']]\n",
    "y_train = df['Species']"
   ]
  },
  {
   "cell_type": "code",
   "execution_count": 251,
   "metadata": {},
   "outputs": [],
   "source": [
    "X = df[['PetalLengthCm', 'PetalWidthCm']].values.T\n",
    "Y = df[['Species']].values.T\n",
    "Y = Y.astype('uint8')"
   ]
  },
  {
   "cell_type": "code",
   "execution_count": 252,
   "metadata": {},
   "outputs": [
    {
     "data": {
      "image/png": "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\n",
      "text/plain": [
       "<Figure size 432x288 with 1 Axes>"
      ]
     },
     "metadata": {
      "needs_background": "light"
     },
     "output_type": "display_data"
    }
   ],
   "source": [
    "plt.scatter(X[0, :], X[1, :], c=Y[0,:], s=40, cmap=plt.cm.Spectral);\n",
    "plt.title(\"IRIS DATA | Blue - Versicolor, Red - Virginica \")\n",
    "plt.xlabel('Petal Length')\n",
    "plt.ylabel('Petal Width')\n",
    "plt.show()"
   ]
  },
  {
   "cell_type": "code",
   "execution_count": 253,
   "metadata": {},
   "outputs": [],
   "source": [
    "def initialize_parameters(n_x, n_h, n_y):\n",
   
    "    np.random.seed(2)\n",
  
    "    W1 = np.random.randn(n_h, n_x) * 0.01 #weight matrix of shape (n_h, n_x)\n",
    "    b1 = np.zeros(shape=(n_h, 1))  #bias vector of shape (n_h, 1)\n",
    "    W2 = np.random.randn(n_y, n_h) * 0.01   #weight matrix of shape (n_y, n_h)\n",
    "    b2 = np.zeros(shape=(n_y, 1))  #bias vector of shape (n_y, 1)\n",
    "       \n",
  
    "    parameters = {\"W1\": W1,\n",
    "                  \"b1\": b1,\n",
    "                  \"W2\": W2,\n",
    "                  \"b2\": b2}\n",
    "    \n",
    "    return parameters"
   ]
  },
  {
   "cell_type": "code",
   "execution_count": 254,
   "metadata": {},
   "outputs": [],
   "source": [
    "def layer_sizes(X, Y):\n",
    "    n_x = X.shape[0] # size of input layer\n",
    "    n_h = 6# size of hidden layer\n",
    "    n_y = Y.shape[0] # size of output layer\n",
    "    return (n_x, n_h, n_y)"
   ]
  },
  {
   "cell_type": "code",
   "execution_count": 255,
   "metadata": {},
   "outputs": [],
   "source": [
    "def forward_propagation(X, parameters):\n",
        
    "    W1 = parameters['W1']\n",
    "    b1 = parameters['b1']\n",
    "    W2 = parameters['W2']\n",
    "    b2 = parameters['b2']\n",
    "    \n",
    "    \n",
    "   
    "    Z1 = np.dot(W1, X) + b1\n",
    "    A1 = np.tanh(Z1)  #tanh activation function\n",
    "    Z2 = np.dot(W2, A1) + b2\n",
    "    A2 = 1/(1+np.exp(-Z2))  #sigmoid activation function\n",
    "    \n",
    "    cache = {\"Z1\": Z1,\n",
    "             \"A1\": A1,\n",
    "             \"Z2\": Z2,\n",
    "             \"A2\": A2}\n",
    "    \n",
    "    return A2, cache"
   ]
  },
  {
   "cell_type": "code",
   "execution_count": 256,
   "metadata": {},
   "outputs": [],
   "source": [
    "def compute_cost(A2, Y, parameters):\n",
    "   \n",
    "    m = Y.shape[1] # number of training examples\n",
    "    \n",
    "   
    "    W1 = parameters['W1']\n",
    "    W2 = parameters['W2']\n",
    "    \n",
    "   
    "    logprobs = np.multiply(np.log(A2), Y) + np.multiply((1 - Y), np.log(1 - A2))\n",
    "    cost = - np.sum(logprobs) / m\n",
    "    \n",
    "    return cost"
   ]
  },
  {
   "cell_type": "code",
   "execution_count": 257,
   "metadata": {},
   "outputs": [],
   "source": [
    "def backward_propagation(parameters, cache, X, Y):\n",
   
    "    m = X.shape[1]\n",
    "    \n",
    "    
    "    W1 = parameters['W1']\n",
    "    W2 = parameters['W2']\n",
    "   
    "        \n",
    "    
    "    A1 = cache['A1']\n",
    "    A2 = cache['A2']\n",
    "    \n",
    "   
    "    dZ2= A2 - Y\n",
    "    dW2 = (1 / m) * np.dot(dZ2, A1.T)\n",
    "    db2 = (1 / m) * np.sum(dZ2, axis=1, keepdims=True)\n",
    "    dZ1 = np.multiply(np.dot(W2.T, dZ2), 1 - np.power(A1, 2))\n",
    "    dW1 = (1 / m) * np.dot(dZ1, X.T)\n",
    "    db1 = (1 / m) * np.sum(dZ1, axis=1, keepdims=True)\n",
    "    grads = {\"dW1\": dW1,\n",
    "             \"db1\": db1,\n",
    "             \"dW2\": dW2,\n",
    "             \"db2\": db2}\n",
    "    \n",
    "    return grads"
   ]
  },
  {
   "cell_type": "code",
   "execution_count": 258,
   "metadata": {},
   "outputs": [],
   "source": [
    "def update_parameters(parameters, grads, learning_rate=1.2):\n",
   
    "    W1 = parameters['W1']\n",
    "    b1 = parameters['b1']\n",
    "    W2 = parameters['W2']\n",
    "    b2 = parameters['b2']\n",
    "    \n",
    "  
    "    dW1 = grads['dW1']\n",
    "    db1 = grads['db1']\n",
    "    dW2 = grads['dW2']\n",
    "    db2 = grads['db2']\n",
    "    \n",
    "   
    "    W1 = W1 - learning_rate * dW1\n",
    "    b1 = b1 - learning_rate * db1\n",
    "    W2 = W2 - learning_rate * dW2\n",
    "    b2 = b2 - learning_rate * db2\n",
    "    \n",
    "    parameters = {\"W1\": W1,\n",
    "                  \"b1\": b1,\n",
    "                  \"W2\": W2,\n",
    "                  \"b2\": b2}\n",
    "    \n",
    "    return parameters"
   ]
  },
  {
   "cell_type": "code",
   "execution_count": 259,
   "metadata": {},
   "outputs": [],
   "source": [
    "def nn_model(X, Y, n_h, num_iterations=10000, print_cost=False):\n",
    "    np.random.seed(3)\n",
    "    n_x = layer_sizes(X, Y)[0]\n",
    "    n_y = layer_sizes(X, Y)[2]\n",
    "    \n",
    "  
    "    parameters = initialize_parameters(n_x, n_h, n_y)\n",
    "    W1 = parameters['W1']\n",
    "    b1 = parameters['b1']\n",
    "    W2 = parameters['W2']\n",
    "    b2 = parameters['b2']\n",
    "    \n",
    "   
    "    for i in range(0, num_iterations):\n",
    "         \n",
    "        
    "        A2, cache = forward_propagation(X, parameters)\n",
    "        \n",
    "       
    "        cost = compute_cost(A2, Y, parameters)\n",
    " \n",
    "      
    "        grads = backward_propagation(parameters, cache, X, Y)\n",
    " \n",
    "       
    "        parameters = update_parameters(parameters, grads)\n",
    "        \n",
    "       
    "        \n",
    "       
    "        if print_cost and i % 1000 == 0:\n",
    "            print (\"Cost after iteration %i: %f\" % (i, cost))\n",
    "    return parameters,n_h"
   ]
  },
  {
   "cell_type": "code",
   "execution_count": 260,
   "metadata": {},
   "outputs": [
    {
     "name": "stdout",
     "output_type": "stream",
     "text": [
      "Cost after iteration 0: 59.853792\n",
      "Cost after iteration 1000: inf\n"
     ]
    },
    {
     "name": "stderr",
     "output_type": "stream",
     "text": [
      "C:\\ProgramData\\Anaconda3\\lib\\site-packages\\ipykernel_launcher.py:10: RuntimeWarning: divide by zero encountered in log\n",
      "  # Remove the CWD from sys.path while we load stuff.\n"
     ]
    },
    {
     "name": "stdout",
     "output_type": "stream",
     "text": [
      "Cost after iteration 2000: inf\n",
      "Cost after iteration 3000: inf\n",
      "Cost after iteration 4000: inf\n",
      "Cost after iteration 5000: inf\n",
      "Cost after iteration 6000: inf\n",
      "Cost after iteration 7000: inf\n",
      "Cost after iteration 8000: inf\n",
      "Cost after iteration 9000: inf\n"
     ]
    }
   ],
   "source": [
    "parameters = nn_model(X,Y , n_h = 6, num_iterations=10000, print_cost=True)"
   ]
  },
  {
   "cell_type": "code",
   "execution_count": 261,
   "metadata": {},
   "outputs": [
    {
     "data": {
      "image/png": "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\n",
      "text/plain": [
       "<Figure size 432x288 with 1 Axes>"
      ]
     },
     "metadata": {
      "needs_background": "light"
     },
     "output_type": "display_data"
    }
   ],
   "source": [
    "np.random.seed(0)\n",
    "X, y = sklearn.datasets.make_moons(200, noise=0.20)\n",
    "plt.scatter(X[:,0], X[:,1], s=40, c=y, cmap=plt.cm.Spectral)\n",
    "clf = sklearn.linear_model.LogisticRegressionCV()\n",
    "clf.fit(X, y)\n",
    "\n",
    
   
    "\n",
    "def plot_decision_boundary(pred_func):\n",
    "\n",
    
    "    x_min, x_max = X[:, 0].min() - .5, X[:, 0].max() + .5\n",
    "    y_min, y_max = X[:, 1].min() - .5, X[:, 1].max() + .5\n",
    "    h = 0.01\n",
    "\n",
   
    "    xx, yy = np.meshgrid(np.arange(x_min, x_max, h), np.arange(y_min, y_max, h))\n",
    "\n",
   
    "    Z = pred_func(np.c_[xx.ravel(), yy.ravel()])\n",
    "    Z = Z.reshape(xx.shape)\n",
    "\n",
  
    "    plt.contourf(xx, yy, Z, cmap=plt.cm.Spectral)\n",
    "    plt.scatter(X[:, 0], X[:, 1], c=y, cmap=plt.cm.Spectral)\n",
    "\n",
    "plt.title(\"Decision Boundary for hidden layer size \" + str(6))\n",
    "plt.xlabel('Petal Length')\n",
    "plt.ylabel('Petal Width')\n",
    "\n",
    "plot_decision_boundary(lambda x: clf.predict(x))\n",
    "\n",
    "\n",
    "    "
   ]
  },
  {
   "cell_type": "code",
   "execution_count": null,
   "metadata": {},
   "outputs": [],
   "source": []
  },
  {
   "cell_type": "code",
   "execution_count": null,
   "metadata": {},
   "outputs": [],
   "source": []
  }
 ],
 "metadata": {
  "kernelspec": {
   "display_name": "Python 3",
   "language": "python",
   "name": "python3"
  },
  "language_info": {
   "codemirror_mode": {
    "name": "ipython",
    "version": 3
   },
   "file_extension": ".py",
   "mimetype": "text/x-python",
   "name": "python",
   "nbconvert_exporter": "python",
   "pygments_lexer": "ipython3",
   "version": "3.7.6"
  }
 },
 "nbformat": 4,
 "nbformat_minor": 4
}
